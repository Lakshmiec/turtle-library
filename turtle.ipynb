import turtle

def draw_square():
  window = turtle.Screen()
  window.bgcolor(“red”)

  brad = turtle.Turtle()
  brad.shape("circle")
  brad.color("blue")
  brad.speed(7)
  i=0
  while i<4:
      brad.forward(100)
      brad.right(90)
      i=i+1
def draw_circle():
  angie = turtle.Turtle()
  angie.shape(“arrow”)
  angie.color(“yellow”)
  angie.speed (3)
  angie.circle (100)

def draw_triangle():
  jack = turtle.Turtle()
  jack.shape(“classic”)
  jack.color(“green”)
  jack.speed (5)
  i=0
  while i<3:

      jack.right(120)
      jack.forward(150)
      i=i+1
draw_square()
draw_circle()
draw_triangle()
