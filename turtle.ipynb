{
  "nbformat": 4,
  "nbformat_minor": 0,
  "metadata": {
    "colab": {
      "name": "Untitled6.ipynb",
      "version": "0.3.2",
      "provenance": [],
      "include_colab_link": true
    },
    "kernelspec": {
      "name": "python3",
      "display_name": "Python 3"
    }
  },
  "cells": [
    {
      "cell_type": "markdown",
      "metadata": {
        "id": "view-in-github",
        "colab_type": "text"
      },
      "source": [
        "<a href=\"https://colab.research.google.com/github/Lakshmiec/turtle-library/blob/master/turtle.ipynb\" target=\"_parent\"><img src=\"https://colab.research.google.com/assets/colab-badge.svg\" alt=\"Open In Colab\"/></a>"
      ]
    },
    {
      "cell_type": "code",
      "metadata": {
        "id": "Zdxw5j7EVyMA",
        "colab_type": "code",
        "colab": {
          "base_uri": "https://localhost:8080/",
          "height": 132
        },
        "outputId": "75f2d6ab-a185-420e-bc8a-7b1b5f6e52d0"
      },
      "source": [
        "import turtle\n",
        "\n",
        "def draw_square():\n",
        "  window = turtle.Screen()\n",
        "  window.bgcolor(“red”)\n",
        "\n",
        "  brad = turtle.Turtle()\n",
        "  brad.shape(\"circle\")\n",
        "  brad.color(\"blue\")\n",
        "  brad.speed(7)\n",
        "  i=0\n",
        "  while i<4:\n",
        "      brad.forward(100)\n",
        "      brad.right(90)\n",
        "      i=i+1\n",
        "def draw_circle():\n",
        "  angie = turtle.Turtle()\n",
        "  angie.shape(“arrow”)\n",
        "  angie.color(“yellow”)\n",
        "  angie.speed (3)\n",
        "  angie.circle (100)\n",
        "\n",
        "def draw_triangle():\n",
        "  jack = turtle.Turtle()\n",
        "  jack.shape(“classic”)\n",
        "  jack.color(“green”)\n",
        "  jack.speed (5)\n",
        "  i=0\n",
        "  while i<3:\n",
        "\n",
        "      jack.right(120)\n",
        "      jack.forward(150)\n",
        "      i=i+1\n",
        "draw_square()\n",
        "draw_circle()\n",
        "draw_triangle()\n",
        "\n",
        "\n",
        "\n"
      ],
      "execution_count": 3,
      "outputs": [
        {
          "output_type": "error",
          "ename": "SyntaxError",
          "evalue": "ignored",
          "traceback": [
            "\u001b[0;36m  File \u001b[0;32m\"<ipython-input-3-06ca0d6c080c>\"\u001b[0;36m, line \u001b[0;32m5\u001b[0m\n\u001b[0;31m    window.bgcolor(“red”)\u001b[0m\n\u001b[0m                       ^\u001b[0m\n\u001b[0;31mSyntaxError\u001b[0m\u001b[0;31m:\u001b[0m invalid character in identifier\n"
          ]
        }
      ]
    }
  ]
}